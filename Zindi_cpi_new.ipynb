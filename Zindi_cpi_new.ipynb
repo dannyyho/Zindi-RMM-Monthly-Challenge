{
  "nbformat": 4,
  "nbformat_minor": 0,
  "metadata": {
    "colab": {
      "provenance": []
    },
    "kernelspec": {
      "name": "python3",
      "display_name": "Python 3"
    },
    "language_info": {
      "name": "python"
    }
  },
  "cells": [
    {
      "cell_type": "code",
      "execution_count": null,
      "metadata": {
        "colab": {
          "base_uri": "https://localhost:8080/"
        },
        "id": "JDkrxreUDhw7",
        "outputId": "3d713c6c-7a4c-43ff-c36d-3a92294ca439"
      },
      "outputs": [
        {
          "output_type": "stream",
          "name": "stdout",
          "text": [
            "Mounted at /drive\n"
          ]
        },
        {
          "output_type": "stream",
          "name": "stderr",
          "text": [
            "<ipython-input-1-5a2870983459>:12: MatplotlibDeprecationWarning: The seaborn styles shipped by Matplotlib are deprecated since 3.6, as they no longer correspond to the styles shipped by seaborn. However, they will remain available as 'seaborn-v0_8-<style>'. Alternatively, directly use the seaborn API instead.\n",
            "  plt.style.use('seaborn-whitegrid')\n"
          ]
        }
      ],
      "source": [
        "import matplotlib.pyplot as plt\n",
        "from datetime import datetime\n",
        "import seaborn as sns\n",
        "import pandas as pd\n",
        "\n",
        "\n",
        "from google.colab import drive\n",
        "drive.mount('/drive')\n",
        "\n",
        "%matplotlib inline\n",
        "\n",
        "plt.style.use('seaborn-whitegrid')\n",
        "# plt.rcParams[\"font.family\"] = \"Times New Roman\"\n",
        "plt.rcParams[\"font.size\"] = \"17\""
      ]
    },
    {
      "cell_type": "code",
      "source": [
        "from sklearn.base import TransformerMixin, BaseEstimator\n",
        "from typing import List\n",
        "\n",
        "class DateFeatures(TransformerMixin, BaseEstimator):\n",
        "\n",
        "    \"\"\"DateFeatures transformer.\"\"\"\n",
        "    features = [\n",
        "        \"hour\",\n",
        "        \"year\",\n",
        "        \"day\",\n",
        "        \"weekday\",\n",
        "        \"month\",\n",
        "        \"quarter\",\n",
        "    ]\n",
        "    def __init__(self):\n",
        "        \"\"\"Nothing much to do.\"\"\"\n",
        "        super().__init__()\n",
        "        self.feature_names: List[str] = []\n",
        "\n",
        "    def get_feature_names(self):\n",
        "        \"\"\"Feature names.\"\"\"\n",
        "        return self.feature_names\n",
        "\n",
        "    def transform(self, df: pd.DataFrame):\n",
        "        \"\"\"Annotate date features.\"\"\"\n",
        "        Xt = []\n",
        "        for col in df.columns:\n",
        "            for feature in self.features:\n",
        "                date_feature = getattr(\n",
        "                    getattr(\n",
        "                        df[col], \"dt\"\n",
        "                    ), feature\n",
        "                )\n",
        "                date_feature.name = f\"{col}_{feature}\"\n",
        "                Xt.append(date_feature)\n",
        "\n",
        "        df2 = pd.concat(Xt, axis=1)\n",
        "        self.feature_names = list(df2.columns)\n",
        "        return df2\n",
        "\n",
        "    def fit(self, df: pd.DataFrame, y=None, **fit_params):\n",
        "        \"\"\"No fitting needed.\"\"\"\n",
        "        return self"
      ],
      "metadata": {
        "id": "HTnksJG0JVpx"
      },
      "execution_count": null,
      "outputs": []
    },
    {
      "cell_type": "code",
      "source": [
        "import numpy as np\n",
        "from sklearn.base import TransformerMixin, BaseEstimator\n",
        "from typing import Dict\n",
        "\n",
        "class CyclicalFeatures(TransformerMixin, BaseEstimator):\n",
        "    \"\"\"CyclicalFeatures transformer.\"\"\"\n",
        "\n",
        "    def __init__(self, max_vals: Dict[str, float] = {}):\n",
        "        \"\"\"Nothing much to do.\"\"\"\n",
        "        super().__init__()\n",
        "        self.feature_names: List[str] = []\n",
        "        self.max_vals = max_vals\n",
        "\n",
        "    def get_feature_names(self):\n",
        "        \"\"\"Feature names.\"\"\"\n",
        "        return self.feature_names\n",
        "\n",
        "    def transform(self, df: pd.DataFrame):\n",
        "        \"\"\"Annotate date features.\"\"\"\n",
        "        Xt = []\n",
        "        for col in df.columns:\n",
        "            if col in self.max_vals:\n",
        "                max_val = self.max_vals[col]\n",
        "            else:\n",
        "                max_val = df[col].max()\n",
        "            for fun_name, fun in [(\"cos\", np.cos), (\"sin\", np.sin)]:\n",
        "                date_feature = fun(2 * np.pi * df[col] / max_val)\n",
        "                date_feature.name = f\"{col}_{fun_name}\"\n",
        "                Xt.append(date_feature)\n",
        "\n",
        "        df2 = pd.concat(Xt, axis=1)\n",
        "        self.feature_names = list(df2.columns)\n",
        "        return df2\n",
        "    def fit(self, df: pd.DataFrame, y=None, **fit_params):\n",
        "        \"\"\"No fitting needed.\"\"\"\n",
        "        return self"
      ],
      "metadata": {
        "id": "-ZInlPARJjKe"
      },
      "execution_count": null,
      "outputs": []
    },
    {
      "cell_type": "code",
      "source": [
        "\n",
        "from sklearn.compose import ColumnTransformer\n",
        "from sklearn.pipeline import Pipeline, make_pipeline\n",
        "#from sklearn import linear_model\n",
        "\n",
        "preprocessor = ColumnTransformer(\n",
        "    transformers=[(\n",
        "        \"date\",\n",
        "        make_pipeline(\n",
        "            DateFeatures(),\n",
        "            ColumnTransformer(transformers=[\n",
        "                (\"cyclical\", CyclicalFeatures(),\n",
        "                  [\"date_day\", \"date_weekday\", \"date_month\"]\n",
        "                )\n",
        "            ], remainder=\"passthrough\")\n",
        "        ), [\"date\"],\n",
        "  ),], remainder=\"passthrough\"\n",
        ")\n",
        "\n",
        "preprocess_pipeline = Pipeline(\n",
        "    [\n",
        "        (\"preprocessing\", preprocessor),\n",
        "        #(\"clf\", linear_model.LinearRegression(),),\n",
        "    ]\n",
        ")"
      ],
      "metadata": {
        "id": "vTaBvl--Jvas"
      },
      "execution_count": null,
      "outputs": []
    },
    {
      "cell_type": "code",
      "source": [
        "def split_column(dataframe, column_name, value_column):\n",
        "    global unique_names\n",
        "    # Extract unique values from the column\n",
        "    unique_names = dataframe[column_name].unique()\n",
        "\n",
        "    # Create new columns based on unique values\n",
        "    for name in unique_names:\n",
        "        dataframe[name] = dataframe[dataframe[column_name]==name][value_column]\n",
        "    # Drop the original column\n",
        "    dataframe = dataframe.drop(columns=[column_name,value_column]).drop_duplicates()\n",
        "\n",
        "    return dataframe"
      ],
      "metadata": {
        "id": "_R4lTUvJGaAs"
      },
      "execution_count": null,
      "outputs": []
    },
    {
      "cell_type": "code",
      "source": [
        "from xgboost import XGBRegressor\n",
        "from sklearn.linear_model import Ridge, Lasso\n",
        "\n",
        "model_pipeline = Pipeline(\n",
        "    [\n",
        "        (\"preprocessing\", preprocessor),\n",
        "        # (\"xgb\", XGBRegressor(objective=\"reg:squarederror\", n_estimators=1000))\n",
        "        (\"ridge\", Ridge(alpha=0.1, max_iter=2000))\n",
        "        # (\"lasso\", Lasso(alpha=0.01, max_iter=1500))\n",
        "    ])"
      ],
      "metadata": {
        "id": "2Df753-B1B5a"
      },
      "execution_count": null,
      "outputs": []
    },
    {
      "cell_type": "code",
      "source": [
        "# Prepare OECD CPI Data\n",
        "cpi_oecd = pd.read_csv('/drive/My Drive/CPI_OECD.csv')\n",
        "cpi_oecd = cpi_oecd[cpi_oecd['FREQUENCY'] == 'M']\n",
        "cpi_oecd = cpi_oecd[(cpi_oecd['Country'] == 'South Africa') & (cpi_oecd['Measure'] == 'National Index')]\n",
        "cpi_oecd['date'] = pd.to_datetime(cpi_oecd['Time'] +'-01', format='%b-%y-%d')\n",
        "df = cpi_oecd[['date','Subject','Value']].set_index('date', drop=False)\n",
        "\n",
        "# Split the 'subject' column into multiple columns and use 'Value' column as corresponding values\n",
        "# df = split_column(df, 'Subject', 'Value')\n",
        "\n",
        "# for cols in df.columns:\n",
        "#   if cols != 'date':\n",
        "#     df[cols] = ((df[cols] / df[cols].shift(1))-1).dropna()\n",
        "# df = df.dropna()\n",
        "\n",
        "\n",
        "# df = df.merge(carSalesFeats,right_index=True,left_index=True,how='outer').dropna()\n",
        "# df['date'] = df.index"
      ],
      "metadata": {
        "colab": {
          "base_uri": "https://localhost:8080/"
        },
        "id": "o-uWtmFGGd2V",
        "outputId": "72ba55b1-5457-4d57-bf3d-d64be3fb8f38"
      },
      "execution_count": null,
      "outputs": [
        {
          "output_type": "stream",
          "name": "stderr",
          "text": [
            "<ipython-input-7-45842d50a89b>:2: DtypeWarning: Columns (17,18) have mixed types. Specify dtype option on import or set low_memory=False.\n",
            "  cpi_oecd = pd.read_csv('/drive/My Drive/CPI_OECD.csv')\n",
            "<ipython-input-7-45842d50a89b>:5: SettingWithCopyWarning: \n",
            "A value is trying to be set on a copy of a slice from a DataFrame.\n",
            "Try using .loc[row_indexer,col_indexer] = value instead\n",
            "\n",
            "See the caveats in the documentation: https://pandas.pydata.org/pandas-docs/stable/user_guide/indexing.html#returning-a-view-versus-a-copy\n",
            "  cpi_oecd['date'] = pd.to_datetime(cpi_oecd['Time'] +'-01', format='%b-%y-%d')\n"
          ]
        }
      ]
    },
    {
      "cell_type": "code",
      "source": [
        "# Prepare CPI data from Zindi\n",
        "cpi_mar = pd.read_csv('/drive/My Drive/CPI_Historic_Values_Zindi_Mar_23.csv')\n",
        "cpi_mar['date'] = pd.to_datetime( '01-' + cpi_mar['Month'].str[-7:], format='%d-%m-%Y')\n",
        "cpi_mar = cpi_mar.rename(columns={'Category':'Subject'})\n",
        "df = cpi_mar[['date','Subject','Value']].set_index('date',drop=False)\n",
        "\n",
        "# df = split_column(df,'Subject','Value')\n",
        "\n",
        "# df = df.merge(carSalesFeats,right_index=True,left_index=True,how='outer').dropna()\n",
        "# df['date'] = df.index"
      ],
      "metadata": {
        "id": "GgfIxrBttoBM"
      },
      "execution_count": null,
      "outputs": []
    },
    {
      "cell_type": "code",
      "source": [
        "# Prepare vehicle data from Zindi\n",
        "carSales = pd.read_csv('/drive/My Drive/Naamsa_Vehicle_Sales.csv')\n",
        "carSales['date'] = pd.to_datetime( '01-'+carSales['Month'], format='%d-%y-%b')\n",
        "df = carSales.set_index('date',drop=False)\n",
        "\n",
        "excluded_column = 'Month'\n",
        "\n",
        "# Get column names excluding the specified column\n",
        "unique_names = [col for col in df.columns if col != excluded_column]\n",
        "car_feats = [col for col in df.columns if col != excluded_column]"
      ],
      "metadata": {
        "id": "osiFuK821tqp"
      },
      "execution_count": null,
      "outputs": []
    },
    {
      "cell_type": "code",
      "source": [
        "# Prepare vehicle data from Zindi\n",
        "petrolPrices = pd.read_excel('/drive/My Drive/pedroldata.xlsx')\n",
        "petrolPrices['date'] = pd.to_datetime( petrolPrices['date'], format='%y-%b-%d')\n",
        "df = petrolPrices.set_index('date',drop=False)\n",
        "\n",
        "excluded_column = 'date'\n",
        "\n",
        "# Get column names excluding the specified column\n",
        "unique_names = [col for col in df.columns if col != excluded_column]\n",
        "car_feats = [col for col in df.columns if col != excluded_column]\n",
        "col_type = 'feature'\n"
      ],
      "metadata": {
        "id": "ezZdVnHb1niF"
      },
      "execution_count": null,
      "outputs": []
    },
    {
      "cell_type": "code",
      "source": [
        "MAX_HORIZON = 2\n",
        "X_test_horizon = pd.Series(pd.date_range(\n",
        "    start=df.index.min(),\n",
        "    periods=len(df) + MAX_HORIZON,\n",
        "    freq='MS',\n",
        "    name=\"date\"\n",
        ")).reset_index()"
      ],
      "metadata": {
        "id": "iY69Rkcb-mI-"
      },
      "execution_count": null,
      "outputs": []
    },
    {
      "cell_type": "code",
      "source": [
        "validation_predictions = []\n",
        "validation_actuals = []\n",
        "\n",
        "FEATURE_COLS = ['date']\n",
        "start = '2022-10-01'\n",
        "split = '2023-04-01'\n",
        "\n",
        "subjects = ['CPI: 01 - Food and non-Alcoholic beverages']\n",
        "\n",
        "for sub in df['Subject'].unique():\n",
        "# for sub in subjects:\n",
        "    df_temp = df[df['Subject'] == sub]\n",
        "\n",
        "    MAX_HORIZON = 2\n",
        "    X_test_horizon = pd.Series(pd.date_range(\n",
        "        start=pd.to_datetime(start),\n",
        "        periods=9,\n",
        "        freq='MS',\n",
        "        name = 'date'\n",
        "    )).reset_index()\n",
        "\n",
        "    TRAIN_SIZE = (pd.to_datetime(split) - df_temp.date.min()).days\n",
        "    HORIZON = 0\n",
        "    TARGET_COL = 'Value'\n",
        "\n",
        "    X_train, X_test = df_temp.iloc[HORIZON:TRAIN_SIZE], df_temp.iloc[TRAIN_SIZE+HORIZON:]\n",
        "    y_train = df_temp.shift(periods=HORIZON).iloc[HORIZON:TRAIN_SIZE][TARGET_COL]\n",
        "    y_test = df_temp.shift(periods=HORIZON).iloc[TRAIN_SIZE+HORIZON:][TARGET_COL]\n",
        "\n",
        "    reg = model_pipeline.fit(X_train[FEATURE_COLS], y_train)\n",
        "\n",
        "    forecasted = pd.concat([pd.Series(model_pipeline.predict(X_test_horizon[FEATURE_COLS])), pd.Series(X_test_horizon.date)], axis = 1)\n",
        "    forecasted.columns = [TARGET_COL, 'date']\n",
        "    forecasted['Subject'] = sub\n",
        "\n",
        "    actual = pd.concat([pd.Series(df_temp[TARGET_COL]), pd.Series(df_temp.date)], axis = 1)\n",
        "    actual.columns = [TARGET_COL, 'date']\n",
        "    actual['Subject'] = sub\n",
        "\n",
        "    validation_predictions.append(forecasted)\n",
        "    validation_actuals.append(actual)\n",
        "\n",
        "validation_predictions = pd.concat(validation_predictions)\n",
        "validation_actuals = pd.concat(validation_actuals)\n",
        "validation_actuals = validation_actuals[validation_actuals['date']>= start]\n",
        "\n"
      ],
      "metadata": {
        "id": "QWZ2zJBQ0gYd"
      },
      "execution_count": null,
      "outputs": []
    },
    {
      "cell_type": "code",
      "source": [
        "val_preds = validation_predictions.groupby([validation_predictions['date'].dt.strftime('%y-%m-%d'),'Subject'])['Value'].sum()\n",
        "val_acts = validation_actuals.groupby([validation_actuals['date'].dt.strftime('%y-%m-%d'),'Subject'])['Value'].sum()\n",
        "\n",
        "results = pd.concat([val_acts,val_preds], axis = 1)\n",
        "results.columns = ['act_values', 'pred_values']\n",
        "results['delta'] = results['pred_values'] - results['act_values']\n",
        "results['delta_%'] = (results['delta'] / results['act_values'] *100)\n",
        "\n",
        "print('results as of: ' + str(X_train.date.max()))\n",
        "results.round(1)\n",
        "\n",
        "results.to_csv('April_results.csv')\n",
        "results"
      ],
      "metadata": {
        "colab": {
          "base_uri": "https://localhost:8080/",
          "height": 677
        },
        "id": "vgFPgM8Z3bFB",
        "outputId": "ea3faa20-2a92-44c4-b511-6b8eac9a63f7"
      },
      "execution_count": null,
      "outputs": [
        {
          "output_type": "stream",
          "name": "stdout",
          "text": [
            "results as of: 2023-03-01 00:00:00\n"
          ]
        },
        {
          "output_type": "execute_result",
          "data": {
            "text/plain": [
              "                                           act_values  pred_values     delta  \\\n",
              "date     Subject                                                               \n",
              "22-10-01 Alcoholic beverages and tobacco        106.1   105.588779 -0.511221   \n",
              "         Clothing and footwear                  102.6   102.466316 -0.133684   \n",
              "         Communication                           99.8    99.465412 -0.334588   \n",
              "         Education                              104.4   103.791198 -0.608802   \n",
              "         Food and non-alcoholic beverages       111.3   111.056482 -0.243518   \n",
              "...                                               ...          ...       ...   \n",
              "23-06-01 Housing and utilities                    NaN   105.468848       NaN   \n",
              "         Miscellaneous goods and services         NaN   108.316758       NaN   \n",
              "         Recreation and culture                   NaN   104.542184       NaN   \n",
              "         Restaurants and hotels                   NaN   109.732299       NaN   \n",
              "         Transport                                NaN   119.592820       NaN   \n",
              "\n",
              "                                            delta_%  \n",
              "date     Subject                                     \n",
              "22-10-01 Alcoholic beverages and tobacco  -0.481830  \n",
              "         Clothing and footwear            -0.130296  \n",
              "         Communication                    -0.335258  \n",
              "         Education                        -0.583144  \n",
              "         Food and non-alcoholic beverages -0.218795  \n",
              "...                                             ...  \n",
              "23-06-01 Housing and utilities                  NaN  \n",
              "         Miscellaneous goods and services       NaN  \n",
              "         Recreation and culture                 NaN  \n",
              "         Restaurants and hotels                 NaN  \n",
              "         Transport                              NaN  \n",
              "\n",
              "[117 rows x 4 columns]"
            ],
            "text/html": [
              "\n",
              "  <div id=\"df-0997c829-9e37-4f88-9979-977a98453021\">\n",
              "    <div class=\"colab-df-container\">\n",
              "      <div>\n",
              "<style scoped>\n",
              "    .dataframe tbody tr th:only-of-type {\n",
              "        vertical-align: middle;\n",
              "    }\n",
              "\n",
              "    .dataframe tbody tr th {\n",
              "        vertical-align: top;\n",
              "    }\n",
              "\n",
              "    .dataframe thead th {\n",
              "        text-align: right;\n",
              "    }\n",
              "</style>\n",
              "<table border=\"1\" class=\"dataframe\">\n",
              "  <thead>\n",
              "    <tr style=\"text-align: right;\">\n",
              "      <th></th>\n",
              "      <th></th>\n",
              "      <th>act_values</th>\n",
              "      <th>pred_values</th>\n",
              "      <th>delta</th>\n",
              "      <th>delta_%</th>\n",
              "    </tr>\n",
              "    <tr>\n",
              "      <th>date</th>\n",
              "      <th>Subject</th>\n",
              "      <th></th>\n",
              "      <th></th>\n",
              "      <th></th>\n",
              "      <th></th>\n",
              "    </tr>\n",
              "  </thead>\n",
              "  <tbody>\n",
              "    <tr>\n",
              "      <th rowspan=\"5\" valign=\"top\">22-10-01</th>\n",
              "      <th>Alcoholic beverages and tobacco</th>\n",
              "      <td>106.1</td>\n",
              "      <td>105.588779</td>\n",
              "      <td>-0.511221</td>\n",
              "      <td>-0.481830</td>\n",
              "    </tr>\n",
              "    <tr>\n",
              "      <th>Clothing and footwear</th>\n",
              "      <td>102.6</td>\n",
              "      <td>102.466316</td>\n",
              "      <td>-0.133684</td>\n",
              "      <td>-0.130296</td>\n",
              "    </tr>\n",
              "    <tr>\n",
              "      <th>Communication</th>\n",
              "      <td>99.8</td>\n",
              "      <td>99.465412</td>\n",
              "      <td>-0.334588</td>\n",
              "      <td>-0.335258</td>\n",
              "    </tr>\n",
              "    <tr>\n",
              "      <th>Education</th>\n",
              "      <td>104.4</td>\n",
              "      <td>103.791198</td>\n",
              "      <td>-0.608802</td>\n",
              "      <td>-0.583144</td>\n",
              "    </tr>\n",
              "    <tr>\n",
              "      <th>Food and non-alcoholic beverages</th>\n",
              "      <td>111.3</td>\n",
              "      <td>111.056482</td>\n",
              "      <td>-0.243518</td>\n",
              "      <td>-0.218795</td>\n",
              "    </tr>\n",
              "    <tr>\n",
              "      <th>...</th>\n",
              "      <th>...</th>\n",
              "      <td>...</td>\n",
              "      <td>...</td>\n",
              "      <td>...</td>\n",
              "      <td>...</td>\n",
              "    </tr>\n",
              "    <tr>\n",
              "      <th rowspan=\"5\" valign=\"top\">23-06-01</th>\n",
              "      <th>Housing and utilities</th>\n",
              "      <td>NaN</td>\n",
              "      <td>105.468848</td>\n",
              "      <td>NaN</td>\n",
              "      <td>NaN</td>\n",
              "    </tr>\n",
              "    <tr>\n",
              "      <th>Miscellaneous goods and services</th>\n",
              "      <td>NaN</td>\n",
              "      <td>108.316758</td>\n",
              "      <td>NaN</td>\n",
              "      <td>NaN</td>\n",
              "    </tr>\n",
              "    <tr>\n",
              "      <th>Recreation and culture</th>\n",
              "      <td>NaN</td>\n",
              "      <td>104.542184</td>\n",
              "      <td>NaN</td>\n",
              "      <td>NaN</td>\n",
              "    </tr>\n",
              "    <tr>\n",
              "      <th>Restaurants and hotels</th>\n",
              "      <td>NaN</td>\n",
              "      <td>109.732299</td>\n",
              "      <td>NaN</td>\n",
              "      <td>NaN</td>\n",
              "    </tr>\n",
              "    <tr>\n",
              "      <th>Transport</th>\n",
              "      <td>NaN</td>\n",
              "      <td>119.592820</td>\n",
              "      <td>NaN</td>\n",
              "      <td>NaN</td>\n",
              "    </tr>\n",
              "  </tbody>\n",
              "</table>\n",
              "<p>117 rows × 4 columns</p>\n",
              "</div>\n",
              "      <button class=\"colab-df-convert\" onclick=\"convertToInteractive('df-0997c829-9e37-4f88-9979-977a98453021')\"\n",
              "              title=\"Convert this dataframe to an interactive table.\"\n",
              "              style=\"display:none;\">\n",
              "        \n",
              "  <svg xmlns=\"http://www.w3.org/2000/svg\" height=\"24px\"viewBox=\"0 0 24 24\"\n",
              "       width=\"24px\">\n",
              "    <path d=\"M0 0h24v24H0V0z\" fill=\"none\"/>\n",
              "    <path d=\"M18.56 5.44l.94 2.06.94-2.06 2.06-.94-2.06-.94-.94-2.06-.94 2.06-2.06.94zm-11 1L8.5 8.5l.94-2.06 2.06-.94-2.06-.94L8.5 2.5l-.94 2.06-2.06.94zm10 10l.94 2.06.94-2.06 2.06-.94-2.06-.94-.94-2.06-.94 2.06-2.06.94z\"/><path d=\"M17.41 7.96l-1.37-1.37c-.4-.4-.92-.59-1.43-.59-.52 0-1.04.2-1.43.59L10.3 9.45l-7.72 7.72c-.78.78-.78 2.05 0 2.83L4 21.41c.39.39.9.59 1.41.59.51 0 1.02-.2 1.41-.59l7.78-7.78 2.81-2.81c.8-.78.8-2.07 0-2.86zM5.41 20L4 18.59l7.72-7.72 1.47 1.35L5.41 20z\"/>\n",
              "  </svg>\n",
              "      </button>\n",
              "      \n",
              "  <style>\n",
              "    .colab-df-container {\n",
              "      display:flex;\n",
              "      flex-wrap:wrap;\n",
              "      gap: 12px;\n",
              "    }\n",
              "\n",
              "    .colab-df-convert {\n",
              "      background-color: #E8F0FE;\n",
              "      border: none;\n",
              "      border-radius: 50%;\n",
              "      cursor: pointer;\n",
              "      display: none;\n",
              "      fill: #1967D2;\n",
              "      height: 32px;\n",
              "      padding: 0 0 0 0;\n",
              "      width: 32px;\n",
              "    }\n",
              "\n",
              "    .colab-df-convert:hover {\n",
              "      background-color: #E2EBFA;\n",
              "      box-shadow: 0px 1px 2px rgba(60, 64, 67, 0.3), 0px 1px 3px 1px rgba(60, 64, 67, 0.15);\n",
              "      fill: #174EA6;\n",
              "    }\n",
              "\n",
              "    [theme=dark] .colab-df-convert {\n",
              "      background-color: #3B4455;\n",
              "      fill: #D2E3FC;\n",
              "    }\n",
              "\n",
              "    [theme=dark] .colab-df-convert:hover {\n",
              "      background-color: #434B5C;\n",
              "      box-shadow: 0px 1px 3px 1px rgba(0, 0, 0, 0.15);\n",
              "      filter: drop-shadow(0px 1px 2px rgba(0, 0, 0, 0.3));\n",
              "      fill: #FFFFFF;\n",
              "    }\n",
              "  </style>\n",
              "\n",
              "      <script>\n",
              "        const buttonEl =\n",
              "          document.querySelector('#df-0997c829-9e37-4f88-9979-977a98453021 button.colab-df-convert');\n",
              "        buttonEl.style.display =\n",
              "          google.colab.kernel.accessAllowed ? 'block' : 'none';\n",
              "\n",
              "        async function convertToInteractive(key) {\n",
              "          const element = document.querySelector('#df-0997c829-9e37-4f88-9979-977a98453021');\n",
              "          const dataTable =\n",
              "            await google.colab.kernel.invokeFunction('convertToInteractive',\n",
              "                                                     [key], {});\n",
              "          if (!dataTable) return;\n",
              "\n",
              "          const docLinkHtml = 'Like what you see? Visit the ' +\n",
              "            '<a target=\"_blank\" href=https://colab.research.google.com/notebooks/data_table.ipynb>data table notebook</a>'\n",
              "            + ' to learn more about interactive tables.';\n",
              "          element.innerHTML = '';\n",
              "          dataTable['output_type'] = 'display_data';\n",
              "          await google.colab.output.renderOutput(dataTable, element);\n",
              "          const docLink = document.createElement('div');\n",
              "          docLink.innerHTML = docLinkHtml;\n",
              "          element.appendChild(docLink);\n",
              "        }\n",
              "      </script>\n",
              "    </div>\n",
              "  </div>\n",
              "  "
            ]
          },
          "metadata": {},
          "execution_count": 68
        }
      ]
    },
    {
      "cell_type": "code",
      "source": [
        "validation_predictions = []\n",
        "validation_actuals = []\n",
        "\n",
        "for target in unique_names:\n",
        "  if col_type =='feature':\n",
        "    FEATURE_COLS = ['date']\n",
        "  else:\n",
        "    FEATURE_COLS = car_feats\n",
        "\n",
        "  date_features = preprocess_pipeline.fit_transform(df[FEATURE_COLS])\n",
        "  TRAIN_SIZE = int(len(df) * 1)\n",
        "  HORIZON = 0\n",
        "  TARGET_COL = target\n",
        "\n",
        "  X_train, X_test = df.iloc[HORIZON:TRAIN_SIZE], df.iloc[TRAIN_SIZE+HORIZON:]\n",
        "  y_train = df.shift(periods=HORIZON).iloc[HORIZON:TRAIN_SIZE][TARGET_COL]\n",
        "  y_test = df.shift(periods=HORIZON).iloc[TRAIN_SIZE+HORIZON:][TARGET_COL]\n",
        "\n",
        "  model_pipeline.fit(X_train[FEATURE_COLS], y_train)\n",
        "\n",
        "  forecasted = pd.concat([pd.Series(model_pipeline.predict(X_test_horizon[FEATURE_COLS])), pd.Series(X_test_horizon.date)],axis=1)\n",
        "  forecasted.columns = [TARGET_COL, \"date\"]\n",
        "\n",
        "  actual = pd.concat([pd.Series(df[TARGET_COL]), pd.Series(df.date)],axis=1)\n",
        "  actual.columns = [TARGET_COL, \"date\"]\n",
        "\n",
        "  validation_predictions.append(forecasted)\n",
        "  validation_actuals.append(actual)"
      ],
      "metadata": {
        "id": "PNh1kBHKJ0JV"
      },
      "execution_count": null,
      "outputs": []
    },
    {
      "cell_type": "code",
      "source": [
        "def feat_prep(df):\n",
        "  df = pd.concat(validation_predictions, axis = 1)\n",
        "  df = df.set_index(df.iloc[:,1])\n",
        "  df = df.drop(columns='date')\n",
        "  return df"
      ],
      "metadata": {
        "id": "7Fn73VUc3GBy"
      },
      "execution_count": null,
      "outputs": []
    },
    {
      "cell_type": "code",
      "source": [
        "petrolPriceFeats = feat_prep(validation_predictions)"
      ],
      "metadata": {
        "id": "idcusJ043bkK"
      },
      "execution_count": null,
      "outputs": []
    },
    {
      "cell_type": "code",
      "source": [
        "X_test_horizon = X_test_horizon.merge(carSalesFeats, on='date')"
      ],
      "metadata": {
        "id": "-ln7iNgUxEOv"
      },
      "execution_count": null,
      "outputs": []
    },
    {
      "cell_type": "code",
      "source": [
        "for i, df in enumerate(validation_predictions):\n",
        "  df['CPI'] = df.columns[0]\n",
        "  df.rename(columns={df.columns[0]: 'value'}, inplace=True)\n",
        "\n",
        "validation_predictions = pd.concat(validation_predictions)"
      ],
      "metadata": {
        "id": "ELyQXZjq2lYZ"
      },
      "execution_count": null,
      "outputs": []
    },
    {
      "cell_type": "code",
      "source": [
        "# -------------------------------------\n",
        "# CREATE AND FORMAT SUBMISSION FILE\n",
        "\n",
        "cpi_dict = {\n",
        "    'CPI: 01-12 - All items':'headline CPI',\n",
        "    'CPI: 01 - Food and non-Alcoholic beverages':'food and non-alcoholic beverages',\n",
        "    'CPI: 02 - Alcoholic beverages, tobacco and narcotics':'alcoholic beverages and tobacco',\n",
        "    'CPI: 03 - Clothing and footwear':'clothing and footwear',\n",
        "    'CPI: 04 - Housing, water, electricity, gas and other fuels':'housing and utilities',\n",
        "    'CPI: 05 - Furnishings, household equipment and routine household maintenance':'household contents and services',\n",
        "    'CPI: 06 - Health':'health',\n",
        "    'CPI: 07 - Transport':'transport',\n",
        "    'CPI: 08 - Communication':'communication',\n",
        "    'CPI: 09 - Recreation and culture':'recreation and culture',\n",
        "    'CPI: 10 - Education':'education',\n",
        "    'CPI: 11 - Restaurants and hotels':'restaurants and hotels',\n",
        "    'CPI: 12 - Miscellaneous goods and services':'miscellaneous goods and services'\n",
        "    }\n",
        "\n",
        "weights_2023 = {'food and non-alcoholic beverages': 0.1714, 'alcoholic beverages and tobacco': 0.0626, 'clothing and footwear': 0.0365, 'housing and utilities': 0.2449, 'household contents and services': 0.0437, 'health': 0.0144, 'transport': 0.1435, 'communication': 0.0242, 'recreation and culture': 0.052, 'education': 0.0262, 'restaurants and hotels': 0.0325, 'miscellaneous goods and services': 0.1481}\n",
        "\n",
        "prediction_month = '2023-04-01'\n",
        "date_obj = datetime.strptime(prediction_month, '%Y-%m-%d')\n",
        "\n",
        "submission_values = validation_predictions[validation_predictions['date'] == prediction_month]\n",
        "\n",
        "# Sort by CPI number\n",
        "submission_values = submission_values[['CPI','value']].sort_values(by=['CPI'],ascending=True)\n",
        "\n",
        "if submission_values['CPI'].iloc[0] == 'CPI: 01 - Food and non-Alcoholic beverages':\n",
        "  # After sorting, calculate the headline CPI by taking the sum of products of values and weights for each subject\n",
        "  not_headline = submission_values[submission_values['CPI'] != 'CPI: 01-12 - All items']\n",
        "  not_headline['CPI'] = not_headline['CPI'].map(cpi_dict)\n",
        "  not_headline['weights'] = not_headline['CPI'].map(weights_2023)\n",
        "  headline = pd.DataFrame(data={'CPI': ['headline CPI'], 'value': [not_headline.apply(lambda row: (row['value']*row['weights']),axis=1).sum()]})\n",
        "  submission_values = pd.concat([headline,not_headline],axis=0)\n",
        "\n",
        "else:\n",
        "  # After sorting, calculate the headline CPI by taking the sum of products of values and weights for each subject\n",
        "  not_headline = submission_values[submission_values['CPI'] != 'Headline_CPI']\n",
        "  not_headline['CPI'] = not_headline['CPI'].str.lower().str.strip()\n",
        "  not_headline['weights'] = not_headline['CPI'].map(weights_2023)\n",
        "  headline = pd.DataFrame(data={'CPI': ['headline CPI'], 'value': [not_headline.apply(lambda row: (row['value']*row['weights']),axis=1).sum()]})\n",
        "  submission_values = pd.concat([headline,not_headline],axis=0)\n",
        "\n",
        "\n",
        "# Rename IDs to match the file format shown on zindi\n",
        "submission_values['ID'] = date_obj.strftime('%B')+'_'+submission_values['CPI']\n",
        "submission_values['Value'] = submission_values['value']\n",
        "submission_values = submission_values[['ID','Value']]"
      ],
      "metadata": {
        "colab": {
          "base_uri": "https://localhost:8080/"
        },
        "id": "Gf626zgvHwMD",
        "outputId": "2fef8830-5968-474a-d515-fecff73f9d34"
      },
      "execution_count": null,
      "outputs": [
        {
          "output_type": "stream",
          "name": "stderr",
          "text": [
            "<ipython-input-120-5e338fa3bc71>:33: SettingWithCopyWarning: \n",
            "A value is trying to be set on a copy of a slice from a DataFrame.\n",
            "Try using .loc[row_indexer,col_indexer] = value instead\n",
            "\n",
            "See the caveats in the documentation: https://pandas.pydata.org/pandas-docs/stable/user_guide/indexing.html#returning-a-view-versus-a-copy\n",
            "  not_headline['CPI'] = not_headline['CPI'].map(cpi_dict)\n",
            "<ipython-input-120-5e338fa3bc71>:34: SettingWithCopyWarning: \n",
            "A value is trying to be set on a copy of a slice from a DataFrame.\n",
            "Try using .loc[row_indexer,col_indexer] = value instead\n",
            "\n",
            "See the caveats in the documentation: https://pandas.pydata.org/pandas-docs/stable/user_guide/indexing.html#returning-a-view-versus-a-copy\n",
            "  not_headline['weights'] = not_headline['CPI'].map(weights_2023)\n"
          ]
        }
      ]
    },
    {
      "cell_type": "code",
      "source": [
        "validation_predictions.to_csv('april.csv')"
      ],
      "metadata": {
        "id": "uoxeU2Fe9pjw"
      },
      "execution_count": null,
      "outputs": []
    },
    {
      "cell_type": "code",
      "source": [
        "from sklearn.metrics import mean_squared_error\n",
        "\n",
        "test_data = actual.merge(forecasted, on=\"date\", suffixes=(\"_actual\", \"_predicted\"))\n",
        "\n",
        "mse = mean_squared_error(test_data.Value_actual, test_data.Value_predicted, squared=False)  # RMSE\n",
        "print(\"The root mean squared error (RMSE) on test set: {:.2f}\".format(mse))"
      ],
      "metadata": {
        "id": "ATINUj7lKB-Y"
      },
      "execution_count": null,
      "outputs": []
    }
  ]
}